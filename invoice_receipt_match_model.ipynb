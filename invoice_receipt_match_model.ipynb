{
 "cells": [
  {
   "cell_type": "code",
   "execution_count": 1,
   "metadata": {},
   "outputs": [],
   "source": [
    "#import all required libraries\n",
    "import pandas as pd\n",
    "import numpy as np\n",
    "import matplotlib.pyplot as plt\n",
    "%matplotlib inline\n",
    "import seaborn as sns\n",
    "from sklearn.linear_model import LogisticRegression\n",
    "from sklearn.metrics import confusion_matrix\n",
    "from sklearn import metrics"
   ]
  },
  {
   "cell_type": "code",
   "execution_count": 2,
   "metadata": {},
   "outputs": [],
   "source": [
    "#import the data/input file, as it contains semicoln as a delimiter we need to provide that to pandas's read_csv function\n",
    "\n",
    "path = './tide-receipt-matching-challenge/data.csv'\n",
    "data = pd.read_csv(path,delimiter=':')\n"
   ]
  },
  {
   "cell_type": "code",
   "execution_count": 3,
   "metadata": {},
   "outputs": [
    {
     "data": {
      "text/plain": [
       "(12034, 14)"
      ]
     },
     "execution_count": 3,
     "metadata": {},
     "output_type": "execute_result"
    }
   ],
   "source": [
    "# this is to check the size of the file, (rows, columns)\n",
    "data.shape"
   ]
  },
  {
   "cell_type": "code",
   "execution_count": 4,
   "metadata": {},
   "outputs": [
    {
     "data": {
      "text/html": [
       "<div>\n",
       "<style scoped>\n",
       "    .dataframe tbody tr th:only-of-type {\n",
       "        vertical-align: middle;\n",
       "    }\n",
       "\n",
       "    .dataframe tbody tr th {\n",
       "        vertical-align: top;\n",
       "    }\n",
       "\n",
       "    .dataframe thead th {\n",
       "        text-align: right;\n",
       "    }\n",
       "</style>\n",
       "<table border=\"1\" class=\"dataframe\">\n",
       "  <thead>\n",
       "    <tr style=\"text-align: right;\">\n",
       "      <th></th>\n",
       "      <th>receipt_id</th>\n",
       "      <th>company_id</th>\n",
       "      <th>matched_transaction_id</th>\n",
       "      <th>feature_transaction_id</th>\n",
       "      <th>DateMappingMatch</th>\n",
       "      <th>AmountMappingMatch</th>\n",
       "      <th>DescriptionMatch</th>\n",
       "      <th>DifferentPredictedTime</th>\n",
       "      <th>TimeMappingMatch</th>\n",
       "      <th>PredictedNameMatch</th>\n",
       "      <th>ShortNameMatch</th>\n",
       "      <th>DifferentPredictedDate</th>\n",
       "      <th>PredictedAmountMatch</th>\n",
       "      <th>PredictedTimeCloseMatch</th>\n",
       "    </tr>\n",
       "  </thead>\n",
       "  <tbody>\n",
       "    <tr>\n",
       "      <th>0</th>\n",
       "      <td>10,000</td>\n",
       "      <td>10000</td>\n",
       "      <td>10,468</td>\n",
       "      <td>10,000</td>\n",
       "      <td>0.0</td>\n",
       "      <td>0.0</td>\n",
       "      <td>0.0</td>\n",
       "      <td>1.0</td>\n",
       "      <td>0.0</td>\n",
       "      <td>0.0</td>\n",
       "      <td>0.0</td>\n",
       "      <td>1.0</td>\n",
       "      <td>0.0</td>\n",
       "      <td>0.0</td>\n",
       "    </tr>\n",
       "    <tr>\n",
       "      <th>1</th>\n",
       "      <td>10,000</td>\n",
       "      <td>10000</td>\n",
       "      <td>10,468</td>\n",
       "      <td>10,001</td>\n",
       "      <td>0.0</td>\n",
       "      <td>0.0</td>\n",
       "      <td>0.0</td>\n",
       "      <td>1.0</td>\n",
       "      <td>0.0</td>\n",
       "      <td>0.0</td>\n",
       "      <td>0.0</td>\n",
       "      <td>1.0</td>\n",
       "      <td>0.0</td>\n",
       "      <td>0.0</td>\n",
       "    </tr>\n",
       "    <tr>\n",
       "      <th>2</th>\n",
       "      <td>10,000</td>\n",
       "      <td>10000</td>\n",
       "      <td>10,468</td>\n",
       "      <td>10,003</td>\n",
       "      <td>0.0</td>\n",
       "      <td>0.0</td>\n",
       "      <td>0.0</td>\n",
       "      <td>1.0</td>\n",
       "      <td>0.0</td>\n",
       "      <td>0.0</td>\n",
       "      <td>0.0</td>\n",
       "      <td>1.0</td>\n",
       "      <td>0.0</td>\n",
       "      <td>0.0</td>\n",
       "    </tr>\n",
       "    <tr>\n",
       "      <th>3</th>\n",
       "      <td>10,000</td>\n",
       "      <td>10000</td>\n",
       "      <td>10,468</td>\n",
       "      <td>10,004</td>\n",
       "      <td>0.0</td>\n",
       "      <td>0.0</td>\n",
       "      <td>0.0</td>\n",
       "      <td>1.0</td>\n",
       "      <td>0.0</td>\n",
       "      <td>0.0</td>\n",
       "      <td>0.0</td>\n",
       "      <td>1.0</td>\n",
       "      <td>0.0</td>\n",
       "      <td>0.0</td>\n",
       "    </tr>\n",
       "    <tr>\n",
       "      <th>4</th>\n",
       "      <td>10,000</td>\n",
       "      <td>10000</td>\n",
       "      <td>10,468</td>\n",
       "      <td>10,005</td>\n",
       "      <td>0.0</td>\n",
       "      <td>0.0</td>\n",
       "      <td>0.0</td>\n",
       "      <td>1.0</td>\n",
       "      <td>0.0</td>\n",
       "      <td>0.0</td>\n",
       "      <td>0.0</td>\n",
       "      <td>1.0</td>\n",
       "      <td>0.0</td>\n",
       "      <td>0.0</td>\n",
       "    </tr>\n",
       "  </tbody>\n",
       "</table>\n",
       "</div>"
      ],
      "text/plain": [
       "  receipt_id  company_id matched_transaction_id feature_transaction_id  \\\n",
       "0     10,000       10000                 10,468                 10,000   \n",
       "1     10,000       10000                 10,468                 10,001   \n",
       "2     10,000       10000                 10,468                 10,003   \n",
       "3     10,000       10000                 10,468                 10,004   \n",
       "4     10,000       10000                 10,468                 10,005   \n",
       "\n",
       "   DateMappingMatch  AmountMappingMatch  DescriptionMatch  \\\n",
       "0               0.0                 0.0               0.0   \n",
       "1               0.0                 0.0               0.0   \n",
       "2               0.0                 0.0               0.0   \n",
       "3               0.0                 0.0               0.0   \n",
       "4               0.0                 0.0               0.0   \n",
       "\n",
       "   DifferentPredictedTime  TimeMappingMatch  PredictedNameMatch  \\\n",
       "0                     1.0               0.0                 0.0   \n",
       "1                     1.0               0.0                 0.0   \n",
       "2                     1.0               0.0                 0.0   \n",
       "3                     1.0               0.0                 0.0   \n",
       "4                     1.0               0.0                 0.0   \n",
       "\n",
       "   ShortNameMatch  DifferentPredictedDate  PredictedAmountMatch  \\\n",
       "0             0.0                     1.0                   0.0   \n",
       "1             0.0                     1.0                   0.0   \n",
       "2             0.0                     1.0                   0.0   \n",
       "3             0.0                     1.0                   0.0   \n",
       "4             0.0                     1.0                   0.0   \n",
       "\n",
       "   PredictedTimeCloseMatch  \n",
       "0                      0.0  \n",
       "1                      0.0  \n",
       "2                      0.0  \n",
       "3                      0.0  \n",
       "4                      0.0  "
      ]
     },
     "execution_count": 4,
     "metadata": {},
     "output_type": "execute_result"
    }
   ],
   "source": [
    "# here we are checking first 5 rows to get little idea about our dataset\n",
    "data.head()"
   ]
  },
  {
   "cell_type": "code",
   "execution_count": 5,
   "metadata": {},
   "outputs": [
    {
     "name": "stdout",
     "output_type": "stream",
     "text": [
      "receipt_id                  object\n",
      "company_id                   int64\n",
      "matched_transaction_id      object\n",
      "feature_transaction_id      object\n",
      "DateMappingMatch           float64\n",
      "AmountMappingMatch         float64\n",
      "DescriptionMatch           float64\n",
      "DifferentPredictedTime     float64\n",
      "TimeMappingMatch           float64\n",
      "PredictedNameMatch         float64\n",
      "ShortNameMatch             float64\n",
      "DifferentPredictedDate     float64\n",
      "PredictedAmountMatch       float64\n",
      "PredictedTimeCloseMatch    float64\n",
      "dtype: object\n"
     ]
    }
   ],
   "source": [
    "# let's check the data types\n",
    "print(data.dtypes)"
   ]
  },
  {
   "cell_type": "code",
   "execution_count": 7,
   "metadata": {},
   "outputs": [
    {
     "data": {
      "text/plain": [
       "30000    4926\n",
       "20000    2375\n",
       "10000    2351\n",
       "50000    1383\n",
       "40000     999\n",
       "Name: company_id, dtype: int64"
      ]
     },
     "execution_count": 7,
     "metadata": {},
     "output_type": "execute_result"
    }
   ],
   "source": [
    "#we can see in above report 5 distinct values for company_id column, so I am just checking what are these ids\n",
    "data.company_id.value_counts()"
   ]
  },
  {
   "cell_type": "code",
   "execution_count": null,
   "metadata": {},
   "outputs": [],
   "source": [
    "\"\"\"We can use pandas_profiling.ProfileReport to explore the dataset,as it's always good to have deep understanding of the dataset.\n",
    "We found out that data is clean and ready to use, no missing value or outliners. \n",
    "But it generates big report and we need to scrollto view the output. This not looking good or useful in github so I am not running \n",
    "this cell while uploading the file on gihub\"\"\"\n",
    "\n",
    "!pip install pandas_profiling\n",
    "\n",
    "import pandas_profiling \n",
    "pandas_profiling.ProfileReport(data)"
   ]
  },
  {
   "cell_type": "code",
   "execution_count": 8,
   "metadata": {},
   "outputs": [],
   "source": [
    "# As we have feture columns but no label in the dataset, we need to add lable by checking if matched_transaction_id and \n",
    "#feature_transaction_id are the same i.e. transaction and receipt are matching\n",
    "data['receipt_match']= data.apply(lambda x: 1 if x['matched_transaction_id']== x['feature_transaction_id'] else 0, axis=1)\n"
   ]
  },
  {
   "cell_type": "code",
   "execution_count": 9,
   "metadata": {},
   "outputs": [
    {
     "data": {
      "text/plain": [
       "Index(['receipt_id', 'company_id', 'matched_transaction_id',\n",
       "       'feature_transaction_id', 'DateMappingMatch', 'AmountMappingMatch',\n",
       "       'DescriptionMatch', 'DifferentPredictedTime', 'TimeMappingMatch',\n",
       "       'PredictedNameMatch', 'ShortNameMatch', 'DifferentPredictedDate',\n",
       "       'PredictedAmountMatch', 'PredictedTimeCloseMatch', 'receipt_match'],\n",
       "      dtype='object')"
      ]
     },
     "execution_count": 9,
     "metadata": {},
     "output_type": "execute_result"
    }
   ],
   "source": [
    "# just to confirm new column is added\n",
    "data.columns"
   ]
  },
  {
   "cell_type": "code",
   "execution_count": 10,
   "metadata": {},
   "outputs": [
    {
     "data": {
      "text/plain": [
       "0    11177\n",
       "1      857\n",
       "Name: receipt_match, dtype: int64"
      ]
     },
     "execution_count": 10,
     "metadata": {},
     "output_type": "execute_result"
    }
   ],
   "source": [
    "#to expolre new column/label data\n",
    "data.receipt_match.value_counts()"
   ]
  },
  {
   "cell_type": "markdown",
   "metadata": {},
   "source": [
    "Let's find out the features which are more correlated for our model. Though we already have some idea by df profiling we did above.\n",
    "I am checking only below features as rest of the features 'receipt_id', 'company_id', 'matched_transaction_id',\n",
    "'feature_transaction_id' are not actually contributing the decesion. "
   ]
  },
  {
   "cell_type": "code",
   "execution_count": 11,
   "metadata": {},
   "outputs": [
    {
     "data": {
      "image/png": "[encoded data removed]",
      "text/plain": [
       "<Figure size 576x396 with 2 Axes>"
      ]
     },
     "metadata": {},
     "output_type": "display_data"
    }
   ],
   "source": [
    "cor=data[['DateMappingMatch', 'AmountMappingMatch',\n",
    "       'DescriptionMatch', 'DifferentPredictedTime', 'TimeMappingMatch',\n",
    "       'PredictedNameMatch', 'ShortNameMatch', 'DifferentPredictedDate',\n",
    "       'PredictedAmountMatch', 'PredictedTimeCloseMatch', 'receipt_match']].corr()\n",
    "sns.heatmap(cor, annot=True, cmap=plt.cm.Reds)\n",
    "plt.show()"
   ]
  },
  {
   "cell_type": "code",
   "execution_count": 12,
   "metadata": {},
   "outputs": [
    {
     "data": {
      "text/plain": [
       "receipt_match              1.000000\n",
       "DateMappingMatch           0.495295\n",
       "DifferentPredictedDate     0.475173\n",
       "TimeMappingMatch           0.373170\n",
       "DifferentPredictedTime     0.370068\n",
       "ShortNameMatch             0.324105\n",
       "DescriptionMatch           0.305888\n",
       "PredictedNameMatch         0.295999\n",
       "PredictedTimeCloseMatch    0.216837\n",
       "PredictedAmountMatch       0.077648\n",
       "AmountMappingMatch         0.009137\n",
       "Name: receipt_match, dtype: float64"
      ]
     },
     "execution_count": 12,
     "metadata": {},
     "output_type": "execute_result"
    }
   ],
   "source": [
    "#Correlation with output variable\n",
    "cor_target = abs(cor[\"receipt_match\"])\n",
    "#Selecting highly correlated features\n",
    "relevant_features = cor_target.sort_values(ascending=False)\n",
    "relevant_features"
   ]
  },
  {
   "cell_type": "markdown",
   "metadata": {},
   "source": [
    "Above corelation result surprised me, as I was expecting AmountMapping feature as a highly correlated feture. (normally if we want to match receipt and transaction first thing we will consider amount and date). But above corelation doesn't show any single feture highly corerelated (>0.5).\n",
    "This is might be because of the size of the dataset. So for now I will go with all above feature though corr result shows AmountMappingMatch feature is not a great choice."
   ]
  },
  {
   "cell_type": "code",
   "execution_count": 72,
   "metadata": {},
   "outputs": [
    {
     "data": {
      "text/html": [
       "<div>\n",
       "<style scoped>\n",
       "    .dataframe tbody tr th:only-of-type {\n",
       "        vertical-align: middle;\n",
       "    }\n",
       "\n",
       "    .dataframe tbody tr th {\n",
       "        vertical-align: top;\n",
       "    }\n",
       "\n",
       "    .dataframe thead th {\n",
       "        text-align: right;\n",
       "    }\n",
       "</style>\n",
       "<table border=\"1\" class=\"dataframe\">\n",
       "  <thead>\n",
       "    <tr style=\"text-align: right;\">\n",
       "      <th></th>\n",
       "      <th>receipt_id</th>\n",
       "      <th>company_id</th>\n",
       "      <th>matched_transaction_id</th>\n",
       "      <th>feature_transaction_id</th>\n",
       "      <th>DateMappingMatch</th>\n",
       "      <th>AmountMappingMatch</th>\n",
       "      <th>DescriptionMatch</th>\n",
       "      <th>DifferentPredictedTime</th>\n",
       "      <th>TimeMappingMatch</th>\n",
       "      <th>PredictedNameMatch</th>\n",
       "      <th>ShortNameMatch</th>\n",
       "      <th>DifferentPredictedDate</th>\n",
       "      <th>PredictedAmountMatch</th>\n",
       "      <th>PredictedTimeCloseMatch</th>\n",
       "      <th>receipt_match</th>\n",
       "    </tr>\n",
       "  </thead>\n",
       "  <tbody>\n",
       "  </tbody>\n",
       "</table>\n",
       "</div>"
      ],
      "text/plain": [
       "Empty DataFrame\n",
       "Columns: [receipt_id, company_id, matched_transaction_id, feature_transaction_id, DateMappingMatch, AmountMappingMatch, DescriptionMatch, DifferentPredictedTime, TimeMappingMatch, PredictedNameMatch, ShortNameMatch, DifferentPredictedDate, PredictedAmountMatch, PredictedTimeCloseMatch, receipt_match]\n",
       "Index: []"
      ]
     },
     "execution_count": 72,
     "metadata": {},
     "output_type": "execute_result"
    }
   ],
   "source": [
    "#check if we have any duplicate rows for positive receipt_match record in combination with receipt_id and company_id\n",
    "match_data = data[data.receipt_match ==1]\n",
    "duplicateRowsDF = match_data[match_data.duplicated(['receipt_id','company_id','receipt_match'])]\n",
    "duplicateRowsDF"
   ]
  },
  {
   "cell_type": "code",
   "execution_count": 152,
   "metadata": {},
   "outputs": [],
   "source": [
    "# Let's seperate the feature and label data (X,y)\n",
    "feature_data = data[['DateMappingMatch', 'AmountMappingMatch',\n",
    "       'DescriptionMatch', 'DifferentPredictedTime', 'TimeMappingMatch',\n",
    "       'PredictedNameMatch', 'ShortNameMatch', 'DifferentPredictedDate',\n",
    "       'PredictedAmountMatch', 'PredictedTimeCloseMatch']]"
   ]
  },
  {
   "cell_type": "code",
   "execution_count": 14,
   "metadata": {},
   "outputs": [
    {
     "data": {
      "text/plain": [
       "(12034, 1)"
      ]
     },
     "execution_count": 14,
     "metadata": {},
     "output_type": "execute_result"
    }
   ],
   "source": [
    "label_data=data[['receipt_match']]\n",
    "label_data.shape"
   ]
  },
  {
   "cell_type": "markdown",
   "metadata": {},
   "source": [
    "Train/Test dataset\n",
    "Let's split our dataset for traing the model and then testing it on test data by using\n",
    "X_train, X_test, y_train, y_test = train_test_split( X, y, test_size=0.2, random_state=4)\n"
   ]
  },
  {
   "cell_type": "code",
   "execution_count": 15,
   "metadata": {},
   "outputs": [
    {
     "name": "stdout",
     "output_type": "stream",
     "text": [
      "Train set: (9627, 10) (9627, 1)\n",
      "Test set: (2407, 10) (2407, 1)\n"
     ]
    }
   ],
   "source": [
    "# first import the library and here we using test_size =0.2 means 80% data for training and 20% for testing\n",
    "from sklearn.model_selection import train_test_split\n",
    "X_train, X_test, y_train, y_test = train_test_split( feature_data, label_data, test_size=0.2, random_state=4)\n",
    "print ('Train set:', X_train.shape,  y_train.shape)\n",
    "print ('Test set:', X_test.shape,  y_test.shape)"
   ]
  },
  {
   "cell_type": "markdown",
   "metadata": {},
   "source": [
    "Modelling!!\n",
    "As we have labeled data and we are trying to classify our data in given labels. We are using logistic regression model."
   ]
  },
  {
   "cell_type": "code",
   "execution_count": 16,
   "metadata": {},
   "outputs": [
    {
     "data": {
      "text/plain": [
       "receipt_match    int64\n",
       "dtype: object"
      ]
     },
     "execution_count": 16,
     "metadata": {},
     "output_type": "execute_result"
    }
   ],
   "source": [
    "#before building model, just want to confirm our target data is integer/boolean value\n",
    "label_data.dtypes"
   ]
  },
  {
   "cell_type": "code",
   "execution_count": 17,
   "metadata": {},
   "outputs": [
    {
     "name": "stderr",
     "output_type": "stream",
     "text": [
      "/Users/supriya.khedekar/opt/anaconda3/lib/python3.7/site-packages/sklearn/utils/validation.py:760: DataConversionWarning: A column-vector y was passed when a 1d array was expected. Please change the shape of y to (n_samples, ), for example using ravel().\n",
      "  y = column_or_1d(y, warn=True)\n"
     ]
    },
    {
     "data": {
      "text/plain": [
       "LogisticRegression(C=1.0, class_weight=None, dual=False, fit_intercept=True,\n",
       "                   intercept_scaling=1, l1_ratio=None, max_iter=100,\n",
       "                   multi_class='auto', n_jobs=None, penalty='l2',\n",
       "                   random_state=None, solver='lbfgs', tol=0.0001, verbose=0,\n",
       "                   warm_start=False)"
      ]
     },
     "execution_count": 17,
     "metadata": {},
     "output_type": "execute_result"
    }
   ],
   "source": [
    "LR = LogisticRegression().fit(X_train,y_train)\n",
    "LR"
   ]
  },
  {
   "cell_type": "code",
   "execution_count": 18,
   "metadata": {},
   "outputs": [],
   "source": [
    "y_pred = LR.predict(X_test)"
   ]
  },
  {
   "cell_type": "code",
   "execution_count": 19,
   "metadata": {},
   "outputs": [
    {
     "name": "stdout",
     "output_type": "stream",
     "text": [
      "Accuracy of logistic regression classifier on test set: 0.96\n"
     ]
    }
   ],
   "source": [
    "# Let's check the accuracy of the model\n",
    "print('Accuracy of logistic regression classifier on test set: {:.2f}'.format(LR.score(X_test, y_test)))"
   ]
  },
  {
   "cell_type": "code",
   "execution_count": 20,
   "metadata": {},
   "outputs": [
    {
     "data": {
      "text/plain": [
       "array([ 4.55167754,  0.37989025,  3.95896696, -1.49598152,  1.89958894,\n",
       "        1.10786267,  1.888823  , -1.46164685,  2.52607593,  0.60871626])"
      ]
     },
     "execution_count": 20,
     "metadata": {},
     "output_type": "execute_result"
    }
   ],
   "source": [
    "#This is to check the coefficient arry for each feature we used in model\n",
    "LR.coef_[0]"
   ]
  },
  {
   "cell_type": "code",
   "execution_count": 21,
   "metadata": {},
   "outputs": [
    {
     "data": {
      "text/plain": [
       "-4.31738135958651"
      ]
     },
     "execution_count": 21,
     "metadata": {},
     "output_type": "execute_result"
    }
   ],
   "source": [
    "# This calculates the intercept/constant of our model\n",
    "LR.intercept_[0]"
   ]
  },
  {
   "cell_type": "code",
   "execution_count": 22,
   "metadata": {},
   "outputs": [
    {
     "name": "stdout",
     "output_type": "stream",
     "text": [
      "              precision    recall  f1-score   support\n",
      "\n",
      "           0       0.96      0.99      0.98      2225\n",
      "           1       0.87      0.49      0.63       182\n",
      "\n",
      "    accuracy                           0.96      2407\n",
      "   macro avg       0.92      0.74      0.80      2407\n",
      "weighted avg       0.95      0.96      0.95      2407\n",
      "\n"
     ]
    }
   ],
   "source": [
    "# Check rsult details about the model by creating classification report\n",
    "from sklearn.metrics import classification_report\n",
    "print(classification_report(y_test, y_pred))\n"
   ]
  },
  {
   "cell_type": "code",
   "execution_count": 23,
   "metadata": {},
   "outputs": [
    {
     "name": "stdout",
     "output_type": "stream",
     "text": [
      "bias :  -4.31738135958651\n",
      "DateMappingMatch  :  4.551677539825321\n",
      "AmountMappingMatch  :  0.37989024517661074\n",
      "DescriptionMatch  :  3.958966961199127\n",
      "DifferentPredictedTime  :  -1.4959815213430072\n",
      "TimeMappingMatch  :  1.899588942795317\n",
      "PredictedNameMatch  :  1.1078626669620486\n",
      "ShortNameMatch  :  1.888822997478385\n",
      "DifferentPredictedDate  :  -1.4616468521291772\n",
      "PredictedAmountMatch  :  2.5260759264982084\n",
      "PredictedTimeCloseMatch  :  0.6087162570085186\n"
     ]
    }
   ],
   "source": [
    "#Final result with intercept and feures with their coef\n",
    "print(\"bias : \", LR.intercept_[0])\n",
    "\n",
    "for index, feature in enumerate(feature_data.columns):\n",
    "    print(feature, ' : ', LR.coef_[0][index])"
   ]
  },
  {
   "cell_type": "markdown",
   "metadata": {},
   "source": [
    "I have tried to use differnt parameters for logistic regression(random_state = 0, class_weight='balanced') and also tried different ratio 70:30 to split the data in train test model to see if we can achive better accuracy score than above.\n",
    "But finally I think above model is the best we have in terms of accuracy.\n",
    "By above model, the most important features are: (by order desc):\n",
    "1.DateMappingMatch\n",
    "2.DescriptionMatch\n",
    "3.PredictedAmountMatch\n",
    "4.TimeMappingMatch\n",
    "5.ShortNameMatch\n",
    "6.PredictedNameMatch\n",
    "7.PredictedTimeCloseMatch\n",
    "8.AmountMappingMatch\n",
    "9.DifferentPredictedDate\n",
    "10.DifferentPredictedTime"
   ]
  },
  {
   "cell_type": "code",
   "execution_count": 156,
   "metadata": {},
   "outputs": [
    {
     "name": "stderr",
     "output_type": "stream",
     "text": [
      "/Users/supriya.khedekar/opt/anaconda3/lib/python3.7/site-packages/sklearn/utils/validation.py:760: DataConversionWarning: A column-vector y was passed when a 1d array was expected. Please change the shape of y to (n_samples, ), for example using ravel().\n",
      "  y = column_or_1d(y, warn=True)\n"
     ]
    },
    {
     "data": {
      "text/plain": [
       "LogisticRegression(C=1.0, class_weight=None, dual=False, fit_intercept=True,\n",
       "                   intercept_scaling=1, l1_ratio=None, max_iter=100,\n",
       "                   multi_class='auto', n_jobs=None, penalty='l2',\n",
       "                   random_state=None, solver='lbfgs', tol=0.0001, verbose=0,\n",
       "                   warm_start=False)"
      ]
     },
     "execution_count": 156,
     "metadata": {},
     "output_type": "execute_result"
    }
   ],
   "source": [
    "#Let's run the model for all dataset so that we can get the probability for all records\n",
    "\n",
    "model=LogisticRegression().fit(feature_data,label_data)\n",
    "model"
   ]
  },
  {
   "cell_type": "code",
   "execution_count": 157,
   "metadata": {},
   "outputs": [
    {
     "data": {
      "text/plain": [
       "array([0.00066144, 0.00066144, 0.00066144, ..., 0.00118016, 0.00066144,\n",
       "       0.28811185])"
      ]
     },
     "execution_count": 157,
     "metadata": {},
     "output_type": "execute_result"
    }
   ],
   "source": [
    "#The function predict_proba() returns a numpy array of two columns. The first column is the probability that target=0 and the second column is the probability that target=1. \n",
    "#That is why we add [:,1] after predict\n",
    "prob = model.predict_proba(feature_data)[:,1]\n",
    "prob"
   ]
  },
  {
   "cell_type": "code",
   "execution_count": 202,
   "metadata": {},
   "outputs": [],
   "source": [
    "# Add the predict_proba result to the original dataset, for ordering the dataset with most matcing probability\n",
    "\n",
    "df_new =data.copy()\n",
    "df_new['prob']=prob"
   ]
  },
  {
   "cell_type": "code",
   "execution_count": 203,
   "metadata": {},
   "outputs": [
    {
     "data": {
      "text/plain": [
       "Index(['receipt_id', 'company_id', 'matched_transaction_id',\n",
       "       'feature_transaction_id', 'DateMappingMatch', 'AmountMappingMatch',\n",
       "       'DescriptionMatch', 'DifferentPredictedTime', 'TimeMappingMatch',\n",
       "       'PredictedNameMatch', 'ShortNameMatch', 'DifferentPredictedDate',\n",
       "       'PredictedAmountMatch', 'PredictedTimeCloseMatch', 'receipt_match',\n",
       "       'prob'],\n",
       "      dtype='object')"
      ]
     },
     "execution_count": 203,
     "metadata": {},
     "output_type": "execute_result"
    }
   ],
   "source": [
    "df_new.columns"
   ]
  },
  {
   "cell_type": "code",
   "execution_count": 206,
   "metadata": {},
   "outputs": [
    {
     "data": {
      "text/html": [
       "<div>\n",
       "<style scoped>\n",
       "    .dataframe tbody tr th:only-of-type {\n",
       "        vertical-align: middle;\n",
       "    }\n",
       "\n",
       "    .dataframe tbody tr th {\n",
       "        vertical-align: top;\n",
       "    }\n",
       "\n",
       "    .dataframe thead th {\n",
       "        text-align: right;\n",
       "    }\n",
       "</style>\n",
       "<table border=\"1\" class=\"dataframe\">\n",
       "  <thead>\n",
       "    <tr style=\"text-align: right;\">\n",
       "      <th></th>\n",
       "      <th>receipt_id</th>\n",
       "      <th>company_id</th>\n",
       "      <th>matched_transaction_id</th>\n",
       "      <th>feature_transaction_id</th>\n",
       "      <th>DateMappingMatch</th>\n",
       "      <th>AmountMappingMatch</th>\n",
       "      <th>DescriptionMatch</th>\n",
       "      <th>DifferentPredictedTime</th>\n",
       "      <th>TimeMappingMatch</th>\n",
       "      <th>PredictedNameMatch</th>\n",
       "      <th>ShortNameMatch</th>\n",
       "      <th>DifferentPredictedDate</th>\n",
       "      <th>PredictedAmountMatch</th>\n",
       "      <th>PredictedTimeCloseMatch</th>\n",
       "      <th>receipt_match</th>\n",
       "      <th>prob</th>\n",
       "    </tr>\n",
       "  </thead>\n",
       "  <tbody>\n",
       "    <tr>\n",
       "      <th>0</th>\n",
       "      <td>10,000</td>\n",
       "      <td>10000</td>\n",
       "      <td>10,468</td>\n",
       "      <td>10,029</td>\n",
       "      <td>0.00</td>\n",
       "      <td>0.4</td>\n",
       "      <td>0.0</td>\n",
       "      <td>1.0</td>\n",
       "      <td>0.0</td>\n",
       "      <td>0.0</td>\n",
       "      <td>0.0</td>\n",
       "      <td>1.0</td>\n",
       "      <td>0.0</td>\n",
       "      <td>0.0</td>\n",
       "      <td>0</td>\n",
       "      <td>0.000705</td>\n",
       "    </tr>\n",
       "    <tr>\n",
       "      <th>1</th>\n",
       "      <td>10,000</td>\n",
       "      <td>10000</td>\n",
       "      <td>10,468</td>\n",
       "      <td>10,028</td>\n",
       "      <td>0.00</td>\n",
       "      <td>0.4</td>\n",
       "      <td>0.0</td>\n",
       "      <td>1.0</td>\n",
       "      <td>0.0</td>\n",
       "      <td>0.0</td>\n",
       "      <td>0.0</td>\n",
       "      <td>1.0</td>\n",
       "      <td>0.0</td>\n",
       "      <td>0.0</td>\n",
       "      <td>0</td>\n",
       "      <td>0.000705</td>\n",
       "    </tr>\n",
       "    <tr>\n",
       "      <th>2</th>\n",
       "      <td>10,000</td>\n",
       "      <td>10000</td>\n",
       "      <td>10,468</td>\n",
       "      <td>10,001</td>\n",
       "      <td>0.00</td>\n",
       "      <td>0.0</td>\n",
       "      <td>0.0</td>\n",
       "      <td>1.0</td>\n",
       "      <td>0.0</td>\n",
       "      <td>0.0</td>\n",
       "      <td>0.0</td>\n",
       "      <td>1.0</td>\n",
       "      <td>0.0</td>\n",
       "      <td>0.0</td>\n",
       "      <td>0</td>\n",
       "      <td>0.000661</td>\n",
       "    </tr>\n",
       "    <tr>\n",
       "      <th>3</th>\n",
       "      <td>10,000</td>\n",
       "      <td>10000</td>\n",
       "      <td>10,468</td>\n",
       "      <td>10,026</td>\n",
       "      <td>0.00</td>\n",
       "      <td>0.0</td>\n",
       "      <td>0.0</td>\n",
       "      <td>1.0</td>\n",
       "      <td>0.0</td>\n",
       "      <td>0.0</td>\n",
       "      <td>0.0</td>\n",
       "      <td>1.0</td>\n",
       "      <td>0.0</td>\n",
       "      <td>0.0</td>\n",
       "      <td>0</td>\n",
       "      <td>0.000661</td>\n",
       "    </tr>\n",
       "    <tr>\n",
       "      <th>4</th>\n",
       "      <td>10,000</td>\n",
       "      <td>10000</td>\n",
       "      <td>10,468</td>\n",
       "      <td>10,025</td>\n",
       "      <td>0.00</td>\n",
       "      <td>0.0</td>\n",
       "      <td>0.0</td>\n",
       "      <td>1.0</td>\n",
       "      <td>0.0</td>\n",
       "      <td>0.0</td>\n",
       "      <td>0.0</td>\n",
       "      <td>1.0</td>\n",
       "      <td>0.0</td>\n",
       "      <td>0.0</td>\n",
       "      <td>0</td>\n",
       "      <td>0.000661</td>\n",
       "    </tr>\n",
       "    <tr>\n",
       "      <th>...</th>\n",
       "      <td>...</td>\n",
       "      <td>...</td>\n",
       "      <td>...</td>\n",
       "      <td>...</td>\n",
       "      <td>...</td>\n",
       "      <td>...</td>\n",
       "      <td>...</td>\n",
       "      <td>...</td>\n",
       "      <td>...</td>\n",
       "      <td>...</td>\n",
       "      <td>...</td>\n",
       "      <td>...</td>\n",
       "      <td>...</td>\n",
       "      <td>...</td>\n",
       "      <td>...</td>\n",
       "      <td>...</td>\n",
       "    </tr>\n",
       "    <tr>\n",
       "      <th>12029</th>\n",
       "      <td>50,226</td>\n",
       "      <td>50000</td>\n",
       "      <td>50,368</td>\n",
       "      <td>50,075</td>\n",
       "      <td>0.65</td>\n",
       "      <td>0.0</td>\n",
       "      <td>0.0</td>\n",
       "      <td>1.0</td>\n",
       "      <td>0.0</td>\n",
       "      <td>0.0</td>\n",
       "      <td>0.0</td>\n",
       "      <td>0.0</td>\n",
       "      <td>0.0</td>\n",
       "      <td>0.0</td>\n",
       "      <td>0</td>\n",
       "      <td>0.050933</td>\n",
       "    </tr>\n",
       "    <tr>\n",
       "      <th>12030</th>\n",
       "      <td>50,226</td>\n",
       "      <td>50000</td>\n",
       "      <td>50,368</td>\n",
       "      <td>50,366</td>\n",
       "      <td>0.00</td>\n",
       "      <td>0.0</td>\n",
       "      <td>0.0</td>\n",
       "      <td>1.0</td>\n",
       "      <td>0.0</td>\n",
       "      <td>0.0</td>\n",
       "      <td>0.0</td>\n",
       "      <td>1.0</td>\n",
       "      <td>0.0</td>\n",
       "      <td>1.0</td>\n",
       "      <td>0</td>\n",
       "      <td>0.001180</td>\n",
       "    </tr>\n",
       "    <tr>\n",
       "      <th>12031</th>\n",
       "      <td>50,226</td>\n",
       "      <td>50000</td>\n",
       "      <td>50,368</td>\n",
       "      <td>50,070</td>\n",
       "      <td>0.00</td>\n",
       "      <td>0.0</td>\n",
       "      <td>0.0</td>\n",
       "      <td>1.0</td>\n",
       "      <td>0.0</td>\n",
       "      <td>0.0</td>\n",
       "      <td>0.0</td>\n",
       "      <td>1.0</td>\n",
       "      <td>0.0</td>\n",
       "      <td>0.0</td>\n",
       "      <td>0</td>\n",
       "      <td>0.000661</td>\n",
       "    </tr>\n",
       "    <tr>\n",
       "      <th>12032</th>\n",
       "      <td>50,226</td>\n",
       "      <td>50000</td>\n",
       "      <td>50,368</td>\n",
       "      <td>50,072</td>\n",
       "      <td>0.00</td>\n",
       "      <td>0.0</td>\n",
       "      <td>0.0</td>\n",
       "      <td>1.0</td>\n",
       "      <td>0.0</td>\n",
       "      <td>0.0</td>\n",
       "      <td>0.0</td>\n",
       "      <td>1.0</td>\n",
       "      <td>0.0</td>\n",
       "      <td>0.0</td>\n",
       "      <td>0</td>\n",
       "      <td>0.000661</td>\n",
       "    </tr>\n",
       "    <tr>\n",
       "      <th>12033</th>\n",
       "      <td>50,226</td>\n",
       "      <td>50000</td>\n",
       "      <td>50,368</td>\n",
       "      <td>50,367</td>\n",
       "      <td>0.00</td>\n",
       "      <td>0.0</td>\n",
       "      <td>0.0</td>\n",
       "      <td>1.0</td>\n",
       "      <td>0.0</td>\n",
       "      <td>0.0</td>\n",
       "      <td>0.0</td>\n",
       "      <td>1.0</td>\n",
       "      <td>0.0</td>\n",
       "      <td>0.0</td>\n",
       "      <td>0</td>\n",
       "      <td>0.000661</td>\n",
       "    </tr>\n",
       "  </tbody>\n",
       "</table>\n",
       "<p>12034 rows × 16 columns</p>\n",
       "</div>"
      ],
      "text/plain": [
       "      receipt_id  company_id matched_transaction_id feature_transaction_id  \\\n",
       "0         10,000       10000                 10,468                 10,029   \n",
       "1         10,000       10000                 10,468                 10,028   \n",
       "2         10,000       10000                 10,468                 10,001   \n",
       "3         10,000       10000                 10,468                 10,026   \n",
       "4         10,000       10000                 10,468                 10,025   \n",
       "...          ...         ...                    ...                    ...   \n",
       "12029     50,226       50000                 50,368                 50,075   \n",
       "12030     50,226       50000                 50,368                 50,366   \n",
       "12031     50,226       50000                 50,368                 50,070   \n",
       "12032     50,226       50000                 50,368                 50,072   \n",
       "12033     50,226       50000                 50,368                 50,367   \n",
       "\n",
       "       DateMappingMatch  AmountMappingMatch  DescriptionMatch  \\\n",
       "0                  0.00                 0.4               0.0   \n",
       "1                  0.00                 0.4               0.0   \n",
       "2                  0.00                 0.0               0.0   \n",
       "3                  0.00                 0.0               0.0   \n",
       "4                  0.00                 0.0               0.0   \n",
       "...                 ...                 ...               ...   \n",
       "12029              0.65                 0.0               0.0   \n",
       "12030              0.00                 0.0               0.0   \n",
       "12031              0.00                 0.0               0.0   \n",
       "12032              0.00                 0.0               0.0   \n",
       "12033              0.00                 0.0               0.0   \n",
       "\n",
       "       DifferentPredictedTime  TimeMappingMatch  PredictedNameMatch  \\\n",
       "0                         1.0               0.0                 0.0   \n",
       "1                         1.0               0.0                 0.0   \n",
       "2                         1.0               0.0                 0.0   \n",
       "3                         1.0               0.0                 0.0   \n",
       "4                         1.0               0.0                 0.0   \n",
       "...                       ...               ...                 ...   \n",
       "12029                     1.0               0.0                 0.0   \n",
       "12030                     1.0               0.0                 0.0   \n",
       "12031                     1.0               0.0                 0.0   \n",
       "12032                     1.0               0.0                 0.0   \n",
       "12033                     1.0               0.0                 0.0   \n",
       "\n",
       "       ShortNameMatch  DifferentPredictedDate  PredictedAmountMatch  \\\n",
       "0                 0.0                     1.0                   0.0   \n",
       "1                 0.0                     1.0                   0.0   \n",
       "2                 0.0                     1.0                   0.0   \n",
       "3                 0.0                     1.0                   0.0   \n",
       "4                 0.0                     1.0                   0.0   \n",
       "...               ...                     ...                   ...   \n",
       "12029             0.0                     0.0                   0.0   \n",
       "12030             0.0                     1.0                   0.0   \n",
       "12031             0.0                     1.0                   0.0   \n",
       "12032             0.0                     1.0                   0.0   \n",
       "12033             0.0                     1.0                   0.0   \n",
       "\n",
       "       PredictedTimeCloseMatch  receipt_match      prob  \n",
       "0                          0.0              0  0.000705  \n",
       "1                          0.0              0  0.000705  \n",
       "2                          0.0              0  0.000661  \n",
       "3                          0.0              0  0.000661  \n",
       "4                          0.0              0  0.000661  \n",
       "...                        ...            ...       ...  \n",
       "12029                      0.0              0  0.050933  \n",
       "12030                      1.0              0  0.001180  \n",
       "12031                      0.0              0  0.000661  \n",
       "12032                      0.0              0  0.000661  \n",
       "12033                      0.0              0  0.000661  \n",
       "\n",
       "[12034 rows x 16 columns]"
      ]
     },
     "execution_count": 206,
     "metadata": {},
     "output_type": "execute_result"
    }
   ],
   "source": [
    "data_sorted_on_pred_prob=df_new.groupby([\"receipt_id\",\"company_id\"], sort=False).apply(lambda x: x.sort_values([\"prob\"],ascending=False)).reset_index(drop=True)\n",
    "data_sorted_on_pred_prob"
   ]
  },
  {
   "cell_type": "markdown",
   "metadata": {},
   "source": [
    "Above new dataset is sorted on predic_probability score groupd by receipt_id and company_id."
   ]
  }
 ],
 "metadata": {
  "kernelspec": {
   "display_name": "Python 3",
   "language": "python",
   "name": "python3"
  },
  "language_info": {
   "codemirror_mode": {
    "name": "ipython",
    "version": 3
   },
   "file_extension": ".py",
   "mimetype": "text/x-python",
   "name": "python",
   "nbconvert_exporter": "python",
   "pygments_lexer": "ipython3",
   "version": "3.7.6"
  }
 },
 "nbformat": 4,
 "nbformat_minor": 4
}
